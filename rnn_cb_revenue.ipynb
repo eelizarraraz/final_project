{
 "cells": [
  {
   "cell_type": "code",
   "execution_count": 29,
   "metadata": {},
   "outputs": [],
   "source": [
    "import tensorflow as tf\n",
    "import pandas as pd\n",
    "import numpy as np\n",
    "import os\n",
    "import matplotlib\n",
    "import matplotlib.pyplot as plt\n",
    "%matplotlib inline\n",
    "import shutil\n",
    "import tensorflow.contrib.learn as tflearn\n",
    "import tensorflow.contrib.layers as tflayers\n",
    "from tensorflow.contrib.learn.python.learn import learn_runner\n",
    "import tensorflow.contrib.metrics as metrics\n",
    "import tensorflow.contrib.rnn as rnn\n",
    "import random"
   ]
  },
  {
   "cell_type": "code",
   "execution_count": 33,
   "metadata": {},
   "outputs": [
    {
     "data": {
      "text/html": [
       "<div>\n",
       "<style scoped>\n",
       "    .dataframe tbody tr th:only-of-type {\n",
       "        vertical-align: middle;\n",
       "    }\n",
       "\n",
       "    .dataframe tbody tr th {\n",
       "        vertical-align: top;\n",
       "    }\n",
       "\n",
       "    .dataframe thead th {\n",
       "        text-align: right;\n",
       "    }\n",
       "</style>\n",
       "<table border=\"1\" class=\"dataframe\">\n",
       "  <thead>\n",
       "    <tr style=\"text-align: right;\">\n",
       "      <th></th>\n",
       "      <th>Date</th>\n",
       "      <th>CHOICE BUILDER</th>\n",
       "    </tr>\n",
       "  </thead>\n",
       "  <tbody>\n",
       "    <tr>\n",
       "      <th>0</th>\n",
       "      <td>12/1/2009</td>\n",
       "      <td>166</td>\n",
       "    </tr>\n",
       "    <tr>\n",
       "      <th>1</th>\n",
       "      <td>1/1/2010</td>\n",
       "      <td>613</td>\n",
       "    </tr>\n",
       "    <tr>\n",
       "      <th>2</th>\n",
       "      <td>2/1/2010</td>\n",
       "      <td>4040</td>\n",
       "    </tr>\n",
       "    <tr>\n",
       "      <th>3</th>\n",
       "      <td>3/1/2010</td>\n",
       "      <td>8340</td>\n",
       "    </tr>\n",
       "    <tr>\n",
       "      <th>4</th>\n",
       "      <td>4/1/2010</td>\n",
       "      <td>10335</td>\n",
       "    </tr>\n",
       "  </tbody>\n",
       "</table>\n",
       "</div>"
      ],
      "text/plain": [
       "        Date  CHOICE BUILDER\n",
       "0  12/1/2009             166\n",
       "1   1/1/2010             613\n",
       "2   2/1/2010            4040\n",
       "3   3/1/2010            8340\n",
       "4   4/1/2010           10335"
      ]
     },
     "execution_count": 33,
     "metadata": {},
     "output_type": "execute_result"
    }
   ],
   "source": [
    "#import and show CSV file\n",
    "df = pd.read_csv('./CSV/cb_revenue_data.csv')\n",
    "df.head(5)"
   ]
  },
  {
   "cell_type": "code",
   "execution_count": 34,
   "metadata": {},
   "outputs": [],
   "source": [
    "ts = df.set_index('Date')"
   ]
  },
  {
   "cell_type": "code",
   "execution_count": 35,
   "metadata": {},
   "outputs": [],
   "source": [
    "ts['CHOICE BUILDER'] = ts['CHOICE BUILDER'].astype(float)"
   ]
  },
  {
   "cell_type": "code",
   "execution_count": 26,
   "metadata": {
    "scrolled": true
   },
   "outputs": [
    {
     "data": {
      "image/png": "[encoded data removed]",
      "text/plain": [
       "<matplotlib.figure.Figure at 0x2353a6b76a0>"
      ]
     },
     "metadata": {},
     "output_type": "display_data"
    },
    {
     "data": {
      "text/plain": [
       "2000-01-31    -9.441351\n",
       "2000-02-29    -6.574050\n",
       "2000-03-31     0.353010\n",
       "2000-04-30    -6.234608\n",
       "2000-05-31   -13.957423\n",
       "2000-06-30   -15.387453\n",
       "2000-07-31   -11.208313\n",
       "2000-08-31   -11.456912\n",
       "2000-09-30   -16.540081\n",
       "2000-10-31    -9.748607\n",
       "Freq: M, dtype: float64"
      ]
     },
     "execution_count": 26,
     "metadata": {},
     "output_type": "execute_result"
    }
   ],
   "source": [
    "random.seed(111)\n",
    "rng = pd.date_range(start = '2000', periods = 209, freq='M')\n",
    "tst = pd.Series(np.random.uniform(-10,10, size=len(rng)), rng).cumsum()\n",
    "tst.plot(c='b', title='example')\n",
    "plt.show()\n",
    "tst.head(10)"
   ]
  },
  {
   "cell_type": "code",
   "execution_count": 36,
   "metadata": {},
   "outputs": [
    {
     "name": "stdout",
     "output_type": "stream",
     "text": [
      "5\n",
      "(5, 20, 1)\n",
      "[[[   166.]\n",
      "  [   613.]\n",
      "  [  4040.]\n",
      "  [  8340.]\n",
      "  [ 10335.]\n",
      "  [ 11080.]\n",
      "  [ 10355.]\n",
      "  [ 30967.]\n",
      "  [  8582.]\n",
      "  [ 16413.]\n",
      "  [  9082.]\n",
      "  [ 26425.]\n",
      "  [ 24478.]\n",
      "  [ 20783.]\n",
      "  [ 22398.]\n",
      "  [ 29223.]\n",
      "  [ 25747.]\n",
      "  [ 29372.]\n",
      "  [ 34343.]\n",
      "  [ 32970.]]\n",
      "\n",
      " [[ 36692.]\n",
      "  [ 40497.]\n",
      "  [ 42215.]\n",
      "  [ 40563.]\n",
      "  [ 44680.]\n",
      "  [ 39996.]\n",
      "  [ 66908.]\n",
      "  [ 54048.]\n",
      "  [ 59311.]\n",
      "  [ 62048.]\n",
      "  [ 67325.]\n",
      "  [ 72091.]\n",
      "  [ 66478.]\n",
      "  [ 73012.]\n",
      "  [ 82747.]\n",
      "  [ 76577.]\n",
      "  [ 83624.]\n",
      "  [109192.]\n",
      "  [ 93809.]\n",
      "  [112564.]]]\n",
      "[[[  613.]\n",
      "  [ 4040.]\n",
      "  [ 8340.]\n",
      "  [10335.]\n",
      "  [11080.]\n",
      "  [10355.]\n",
      "  [30967.]\n",
      "  [ 8582.]\n",
      "  [16413.]\n",
      "  [ 9082.]\n",
      "  [26425.]\n",
      "  [24478.]\n",
      "  [20783.]\n",
      "  [22398.]\n",
      "  [29223.]\n",
      "  [25747.]\n",
      "  [29372.]\n",
      "  [34343.]\n",
      "  [32970.]\n",
      "  [36692.]]]\n",
      "(5, 20, 1)\n"
     ]
    }
   ],
   "source": [
    "#convert data to array\n",
    "TS = np.array(ts)\n",
    "num_periods = 20\n",
    "f_horizon = 1\n",
    "\n",
    "x_data = TS[:(len(TS)-(len(TS) % num_periods))]\n",
    "x_batches = x_data.reshape(-1, 20, 1)\n",
    "\n",
    "y_data = TS[1:(len(TS)-(len(TS) % num_periods))+f_horizon]\n",
    "y_batches = y_data.reshape(-1, 20, 1)\n",
    "print (len(x_batches))\n",
    "print (x_batches.shape)\n",
    "print (x_batches[0:2])\n",
    "\n",
    "print (y_batches[0:1])\n",
    "print (y_batches.shape)"
   ]
  },
  {
   "cell_type": "code",
   "execution_count": 37,
   "metadata": {},
   "outputs": [
    {
     "name": "stdout",
     "output_type": "stream",
     "text": [
      "(1, 20, 1)\n",
      "[[[469842.]\n",
      "  [517473.]\n",
      "  [514999.]\n",
      "  [448152.]\n",
      "  [482915.]\n",
      "  [541088.]\n",
      "  [490151.]\n",
      "  [559046.]\n",
      "  [498463.]\n",
      "  [498180.]\n",
      "  [524680.]\n",
      "  [557488.]\n",
      "  [580610.]\n",
      "  [593037.]\n",
      "  [624594.]\n",
      "  [580831.]\n",
      "  [609855.]\n",
      "  [601214.]\n",
      "  [588871.]\n",
      "  [627123.]]]\n"
     ]
    }
   ],
   "source": [
    "#pull out test data\n",
    "def test_data(series,forecast,num_periods):\n",
    "    test_x_setup = TS[-(num_periods + forecast):]\n",
    "    testX = test_x_setup[:num_periods].reshape(-1, 20, 1)\n",
    "    testY = TS[-(num_periods):].reshape(-1, 20, 1)\n",
    "    return testX,testY\n",
    "\n",
    "X_test, Y_test = test_data(TS,f_horizon,num_periods)\n",
    "print (X_test.shape)\n",
    "print (X_test)"
   ]
  },
  {
   "cell_type": "code",
   "execution_count": 48,
   "metadata": {},
   "outputs": [],
   "source": [
    "tf.reset_default_graph()\n",
    "\n",
    "num_periods = 20\n",
    "inputs = 1\n",
    "hidden = 2000\n",
    "output = 1\n",
    "\n",
    "#create variables\n",
    "X = tf.placeholder(tf.float32, [None, num_periods, inputs])\n",
    "y = tf.placeholder(tf.float32, [None, num_periods, output])\n",
    "\n",
    "#create RNN object\n",
    "basic_cell = tf.contrib.rnn.BasicRNNCell(num_units=hidden, activation=tf.nn.relu)\n",
    "rnn_output, states = tf.nn.dynamic_rnn(basic_cell, X, dtype=tf.float32)\n",
    "\n",
    "learning_rate = 0.001\n",
    "\n",
    "#change form to tensor / specify type of layer / shape of results\n",
    "stacked_rnn_output = tf.reshape(rnn_output, [-1, hidden])\n",
    "stacked_outputs = tf.layers.dense(stacked_rnn_output, output)\n",
    "outputs = tf.reshape(stacked_outputs, [-1, num_periods, output])\n",
    "\n",
    "loss = tf.reduce_sum(tf.square(outputs - y))\n",
    "optimizer = tf.train.AdamOptimizer(learning_rate=learning_rate)\n",
    "training_op = optimizer.minimize(loss)\n",
    "\n",
    "init = tf.global_variables_initializer()\n"
   ]
  },
  {
   "cell_type": "code",
   "execution_count": 51,
   "metadata": {},
   "outputs": [
    {
     "name": "stdout",
     "output_type": "stream",
     "text": [
      "0 \tMSE: 27405295000000.0\n",
      "100 \tMSE: 181307380000.0\n",
      "200 \tMSE: 23300588000.0\n",
      "300 \tMSE: 13656644000.0\n",
      "400 \tMSE: 6582781000.0\n",
      "[[[503374.22]\n",
      "  [514666.28]\n",
      "  [541594.3 ]\n",
      "  [564479.75]\n",
      "  [492593.12]\n",
      "  [534191.06]\n",
      "  [572925.7 ]\n",
      "  [486953.5 ]\n",
      "  [496140.75]\n",
      "  [628129.94]\n",
      "  [496459.5 ]\n",
      "  [619077.2 ]\n",
      "  [550321.06]\n",
      "  [607984.6 ]\n",
      "  [606525.7 ]\n",
      "  [621003.5 ]\n",
      "  [629685.44]\n",
      "  [602752.56]\n",
      "  [674557.94]\n",
      "  [599165.3 ]]]\n"
     ]
    }
   ],
   "source": [
    "#implement model on training data\n",
    "epochs = 500\n",
    "\n",
    "with tf.Session() as sess:\n",
    "    init.run()\n",
    "    for ep in range(epochs):\n",
    "        sess.run(training_op, feed_dict={X: x_batches, y: y_batches})\n",
    "        if ep % 100 ==0:\n",
    "            mse = loss.eval(feed_dict={X: x_batches, y: y_batches})\n",
    "            print(ep, \"\\tMSE:\", mse)\n",
    "    \n",
    "    y_pred = sess.run(outputs, feed_dict={X: X_test})\n",
    "    print(y_pred)"
   ]
  },
  {
   "cell_type": "code",
   "execution_count": 52,
   "metadata": {},
   "outputs": [
    {
     "data": {
      "image/png": "[encoded data removed]",
      "text/plain": [
       "<matplotlib.figure.Figure at 0x2350061a4e0>"
      ]
     },
     "metadata": {},
     "output_type": "display_data"
    }
   ],
   "source": [
    "plt.title(\"Forecast vs Actual\", fontsize=14)\n",
    "plt.plot(pd.Series(np.ravel(Y_test)), \"bo\", markersize=10, label = \"Actual\")\n",
    "plt.plot(pd.Series(np.ravel(y_pred)), \"r.\", markersize=10, label=\"Forecast\")\n",
    "plt.legend(loc=\"upper left\")\n",
    "plt.xlabel(\"Time Periods\")\n",
    "\n",
    "plt.show()"
   ]
  },
  {
   "cell_type": "code",
   "execution_count": null,
   "metadata": {},
   "outputs": [],
   "source": []
  }
 ],
 "metadata": {
  "kernelspec": {
   "display_name": "Python 3",
   "language": "python",
   "name": "python3"
  },
  "language_info": {
   "codemirror_mode": {
    "name": "ipython",
    "version": 3
   },
   "file_extension": ".py",
   "mimetype": "text/x-python",
   "name": "python",
   "nbconvert_exporter": "python",
   "pygments_lexer": "ipython3",
   "version": "3.6.4"
  }
 },
 "nbformat": 4,
 "nbformat_minor": 2
}
