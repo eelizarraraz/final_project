{
 "cells": [
  {
   "cell_type": "code",
   "execution_count": 30,
   "metadata": {},
   "outputs": [],
   "source": [
    "import tensorflow as tf\n",
    "import pandas as pd\n",
    "import numpy as np\n",
    "import os\n",
    "import matplotlib\n",
    "import matplotlib.pyplot as plt\n",
    "%matplotlib inline\n",
    "import shutil\n",
    "import tensorflow.contrib.learn as tflearn\n",
    "import tensorflow.contrib.layers as tflayers\n",
    "from tensorflow.contrib.learn.python.learn import learn_runner\n",
    "import tensorflow.contrib.metrics as metrics\n",
    "import tensorflow.contrib.rnn as rnn\n",
    "import random"
   ]
  },
  {
   "cell_type": "code",
   "execution_count": 31,
   "metadata": {},
   "outputs": [
    {
     "data": {
      "text/html": [
       "<div>\n",
       "<style scoped>\n",
       "    .dataframe tbody tr th:only-of-type {\n",
       "        vertical-align: middle;\n",
       "    }\n",
       "\n",
       "    .dataframe tbody tr th {\n",
       "        vertical-align: top;\n",
       "    }\n",
       "\n",
       "    .dataframe thead th {\n",
       "        text-align: right;\n",
       "    }\n",
       "</style>\n",
       "<table border=\"1\" class=\"dataframe\">\n",
       "  <thead>\n",
       "    <tr style=\"text-align: right;\">\n",
       "      <th></th>\n",
       "      <th>Date</th>\n",
       "      <th>Small Group</th>\n",
       "    </tr>\n",
       "  </thead>\n",
       "  <tbody>\n",
       "    <tr>\n",
       "      <th>0</th>\n",
       "      <td>12/1/2009</td>\n",
       "      <td>2740735</td>\n",
       "    </tr>\n",
       "    <tr>\n",
       "      <th>1</th>\n",
       "      <td>1/1/2010</td>\n",
       "      <td>2416148</td>\n",
       "    </tr>\n",
       "    <tr>\n",
       "      <th>2</th>\n",
       "      <td>2/1/2010</td>\n",
       "      <td>2547528</td>\n",
       "    </tr>\n",
       "    <tr>\n",
       "      <th>3</th>\n",
       "      <td>3/1/2010</td>\n",
       "      <td>2737315</td>\n",
       "    </tr>\n",
       "    <tr>\n",
       "      <th>4</th>\n",
       "      <td>4/1/2010</td>\n",
       "      <td>2547421</td>\n",
       "    </tr>\n",
       "  </tbody>\n",
       "</table>\n",
       "</div>"
      ],
      "text/plain": [
       "        Date  Small Group\n",
       "0  12/1/2009      2740735\n",
       "1   1/1/2010      2416148\n",
       "2   2/1/2010      2547528\n",
       "3   3/1/2010      2737315\n",
       "4   4/1/2010      2547421"
      ]
     },
     "execution_count": 31,
     "metadata": {},
     "output_type": "execute_result"
    }
   ],
   "source": [
    "#import and show CSV file\n",
    "df = pd.read_csv('./CSV/sg_revenue_data.csv')\n",
    "df.head(5)"
   ]
  },
  {
   "cell_type": "code",
   "execution_count": 32,
   "metadata": {},
   "outputs": [],
   "source": [
    "ts = df.set_index('Date')"
   ]
  },
  {
   "cell_type": "code",
   "execution_count": 33,
   "metadata": {},
   "outputs": [],
   "source": [
    "ts['Small Group'] = ts['Small Group'].astype(float)"
   ]
  },
  {
   "cell_type": "code",
   "execution_count": 34,
   "metadata": {},
   "outputs": [
    {
     "name": "stdout",
     "output_type": "stream",
     "text": [
      "5\n",
      "(5, 20, 1)\n",
      "[[[2740735.]\n",
      "  [2416148.]\n",
      "  [2547528.]\n",
      "  [2737315.]\n",
      "  [2547421.]\n",
      "  [2332692.]\n",
      "  [2675896.]\n",
      "  [2490901.]\n",
      "  [2505415.]\n",
      "  [2401032.]\n",
      "  [2368470.]\n",
      "  [2398938.]\n",
      "  [2394879.]\n",
      "  [2505553.]\n",
      "  [2439879.]\n",
      "  [2473087.]\n",
      "  [2352302.]\n",
      "  [2315070.]\n",
      "  [2445746.]\n",
      "  [2299619.]]\n",
      "\n",
      " [[2516211.]\n",
      "  [2308152.]\n",
      "  [2258030.]\n",
      "  [2294585.]\n",
      "  [9561070.]\n",
      "  [2418334.]\n",
      "  [2381271.]\n",
      "  [2428115.]\n",
      "  [2356513.]\n",
      "  [2404503.]\n",
      "  [2354231.]\n",
      "  [2474782.]\n",
      "  [2486525.]\n",
      "  [2355672.]\n",
      "  [2538862.]\n",
      "  [2423994.]\n",
      "  [2463172.]\n",
      "  [2551140.]\n",
      "  [2434296.]\n",
      "  [2635361.]]]\n",
      "[[[2416148.]\n",
      "  [2547528.]\n",
      "  [2737315.]\n",
      "  [2547421.]\n",
      "  [2332692.]\n",
      "  [2675896.]\n",
      "  [2490901.]\n",
      "  [2505415.]\n",
      "  [2401032.]\n",
      "  [2368470.]\n",
      "  [2398938.]\n",
      "  [2394879.]\n",
      "  [2505553.]\n",
      "  [2439879.]\n",
      "  [2473087.]\n",
      "  [2352302.]\n",
      "  [2315070.]\n",
      "  [2445746.]\n",
      "  [2299619.]\n",
      "  [2516211.]]]\n",
      "(5, 20, 1)\n"
     ]
    }
   ],
   "source": [
    "#convert data to array\n",
    "TS = np.array(ts)\n",
    "num_periods = 20\n",
    "f_horizon = 1\n",
    "\n",
    "x_data = TS[:(len(TS)-(len(TS) % num_periods))]\n",
    "x_batches = x_data.reshape(-1, 20, 1)\n",
    "\n",
    "y_data = TS[1:(len(TS)-(len(TS) % num_periods))+f_horizon]\n",
    "y_batches = y_data.reshape(-1, 20, 1)\n",
    "print (len(x_batches))\n",
    "print (x_batches.shape)\n",
    "print (x_batches[0:2])\n",
    "\n",
    "print (y_batches[0:1])\n",
    "print (y_batches.shape)"
   ]
  },
  {
   "cell_type": "code",
   "execution_count": 35,
   "metadata": {},
   "outputs": [
    {
     "name": "stdout",
     "output_type": "stream",
     "text": [
      "(1, 20, 1)\n",
      "[[[7029041.]\n",
      "  [6823416.]\n",
      "  [7053886.]\n",
      "  [6590921.]\n",
      "  [7043652.]\n",
      "  [6807451.]\n",
      "  [6900873.]\n",
      "  [6995607.]\n",
      "  [6747183.]\n",
      "  [6991572.]\n",
      "  [6884088.]\n",
      "  [7225003.]\n",
      "  [7318510.]\n",
      "  [7183043.]\n",
      "  [7324757.]\n",
      "  [7300850.]\n",
      "  [7475595.]\n",
      "  [7261327.]\n",
      "  [7631457.]\n",
      "  [7342751.]]]\n"
     ]
    }
   ],
   "source": [
    "#pull out test data\n",
    "def test_data(series,forecast,num_periods):\n",
    "    test_x_setup = TS[-(num_periods + forecast):]\n",
    "    testX = test_x_setup[:num_periods].reshape(-1, 20, 1)\n",
    "    testY = TS[-(num_periods):].reshape(-1, 20, 1)\n",
    "    return testX,testY\n",
    "\n",
    "X_test, Y_test = test_data(TS,f_horizon,num_periods)\n",
    "print (X_test.shape)\n",
    "print (X_test)"
   ]
  },
  {
   "cell_type": "code",
   "execution_count": 63,
   "metadata": {},
   "outputs": [],
   "source": [
    "tf.reset_default_graph()\n",
    "\n",
    "num_periods = 20\n",
    "inputs = 1\n",
    "hidden = 2000\n",
    "output = 1\n",
    "\n",
    "#create variables\n",
    "X = tf.placeholder(tf.float32, [None, num_periods, inputs])\n",
    "y = tf.placeholder(tf.float32, [None, num_periods, output])\n",
    "\n",
    "#create RNN object\n",
    "basic_cell = tf.contrib.rnn.BasicRNNCell(num_units=hidden, activation=tf.nn.relu)\n",
    "rnn_output, states = tf.nn.dynamic_rnn(basic_cell, X, dtype=tf.float32)\n",
    "\n",
    "learning_rate = 0.001\n",
    "\n",
    "#change form to tensor / specify type of layer / shape of results\n",
    "stacked_rnn_output = tf.reshape(rnn_output, [-1, hidden])\n",
    "stacked_outputs = tf.layers.dense(stacked_rnn_output, output)\n",
    "outputs = tf.reshape(stacked_outputs, [-1, num_periods, output])\n",
    "\n",
    "loss = tf.reduce_sum(tf.square(outputs - y))\n",
    "optimizer = tf.train.AdamOptimizer(learning_rate=learning_rate)\n",
    "training_op = optimizer.minimize(loss)\n",
    "\n",
    "init = tf.global_variables_initializer()\n"
   ]
  },
  {
   "cell_type": "code",
   "execution_count": 66,
   "metadata": {},
   "outputs": [
    {
     "name": "stdout",
     "output_type": "stream",
     "text": [
      "0 \tMSE: 445003070000000.0\n",
      "100 \tMSE: 82766250000000.0\n",
      "200 \tMSE: 56793267000000.0\n",
      "300 \tMSE: 48426503000000.0\n",
      "400 \tMSE: 40826500000000.0\n",
      "[[[6851661.5]\n",
      "  [6954800.5]\n",
      "  [7121407. ]\n",
      "  [8625553. ]\n",
      "  [7465746.5]\n",
      "  [7298954. ]\n",
      "  [7150549. ]\n",
      "  [6969235. ]\n",
      "  [7070919. ]\n",
      "  [6976296. ]\n",
      "  [7031065.5]\n",
      "  [7563493.5]\n",
      "  [7258132. ]\n",
      "  [7360542.5]\n",
      "  [7435005. ]\n",
      "  [7319544. ]\n",
      "  [7559668. ]\n",
      "  [7546006. ]\n",
      "  [7624912. ]\n",
      "  [7735858. ]]]\n"
     ]
    }
   ],
   "source": [
    "#implement model on training data\n",
    "epochs = 500\n",
    "\n",
    "with tf.Session() as sess:\n",
    "    init.run()\n",
    "    for ep in range(epochs):\n",
    "        sess.run(training_op, feed_dict={X: x_batches, y: y_batches})\n",
    "        if ep % 100 ==0:\n",
    "            mse = loss.eval(feed_dict={X: x_batches, y: y_batches})\n",
    "            print(ep, \"\\tMSE:\", mse)\n",
    "    \n",
    "    y_pred = sess.run(outputs, feed_dict={X: X_test})\n",
    "    print(y_pred)"
   ]
  },
  {
   "cell_type": "code",
   "execution_count": 67,
   "metadata": {},
   "outputs": [
    {
     "data": {
      "image/png": "[encoded data removed]",
      "text/plain": [
       "<matplotlib.figure.Figure at 0x1bbb0199860>"
      ]
     },
     "metadata": {},
     "output_type": "display_data"
    }
   ],
   "source": [
    "plt.title(\"Forecast vs Actual\", fontsize=14)\n",
    "plt.plot(pd.Series(np.ravel(Y_test)), \"bo\", markersize=10, label = \"Actual\")\n",
    "plt.plot(pd.Series(np.ravel(y_pred)), \"r.\", markersize=10, label=\"Forecast\")\n",
    "plt.legend(loc=\"upper left\")\n",
    "plt.xlabel(\"Time Periods\")\n",
    "\n",
    "plt.show()"
   ]
  },
  {
   "cell_type": "code",
   "execution_count": null,
   "metadata": {},
   "outputs": [],
   "source": []
  }
 ],
 "metadata": {
  "kernelspec": {
   "display_name": "Python 3",
   "language": "python",
   "name": "python3"
  },
  "language_info": {
   "codemirror_mode": {
    "name": "ipython",
    "version": 3
   },
   "file_extension": ".py",
   "mimetype": "text/x-python",
   "name": "python",
   "nbconvert_exporter": "python",
   "pygments_lexer": "ipython3",
   "version": "3.6.4"
  }
 },
 "nbformat": 4,
 "nbformat_minor": 2
}
